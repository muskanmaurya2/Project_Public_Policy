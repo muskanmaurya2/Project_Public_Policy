{
 "cells": [
  {
   "cell_type": "code",
   "execution_count": 2,
   "id": "d2fae287-d609-41da-91ed-f19e8e89cba0",
   "metadata": {},
   "outputs": [],
   "source": [
    "# ============================================================\n",
    "# Quantum NLP Pipeline (QVC + QSVC) with Prediction Function\n",
    "# Compatible with Qiskit ≥ 1.x and PennyLane ≥ 0.38\n",
    "# ============================================================\n",
    "\n",
    "import numpy as np\n",
    "import pandas as pd\n",
    "import joblib\n",
    "from sklearn.model_selection import train_test_split\n",
    "from sklearn.preprocessing import LabelEncoder\n",
    "from sklearn.feature_extraction.text import TfidfVectorizer\n",
    "from sklearn.metrics import accuracy_score\n",
    "import pennylane as qml\n",
    "from pennylane import numpy as pnp\n",
    "from qiskit.circuit.library import ZZFeatureMap\n",
    "from qiskit.primitives import Sampler\n",
    "from qiskit_machine_learning.kernels import FidelityQuantumKernel\n",
    "from qiskit_machine_learning.algorithms.classifiers import QSVC\n"
   ]
  },
  {
   "cell_type": "code",
   "execution_count": 3,
   "id": "9688388b-df02-4157-828d-bd673ed15ab1",
   "metadata": {},
   "outputs": [
    {
     "name": "stdout",
     "output_type": "stream",
     "text": [
      "📘 Loading dataset...\n"
     ]
    }
   ],
   "source": [
    "# Load Dataset \n",
    "print(\"📘 Loading dataset...\")\n",
    "DATA_PATH = r\"C:\\Users\\Muskan\\Documents\\Publicpolicy\\AI_infosys_Policy\\AI_policy_data.csv\"\n",
    "df = pd.read_csv(DATA_PATH)\n",
    "\n",
    "# Combine text columns for NLP processing\n",
    "df['text_for_nlp'] = (\n",
    "    df['scheme_name'].astype(str) + \" \" +\n",
    "    df['details'].astype(str) + \" \" +\n",
    "    df['benefits'].astype(str) + \" \" +\n",
    "    df['eligibility'].astype(str) + \" \" +\n",
    "    df['application'].astype(str) + \" \" +\n",
    "    df['documents'].astype(str)\n",
    ").str.lower()\n",
    "\n",
    "# Binary label: \"quantum\" policies = 1, others = 0\n",
    "df['label'] = np.where(df['scheme_name'].str.contains(\"quantum\", case=False, na=False), 1, 0)"
   ]
  },
  {
   "cell_type": "code",
   "execution_count": 4,
   "id": "8a2586ad-36d7-4dd7-978b-1bc8b4a2b9ec",
   "metadata": {},
   "outputs": [
    {
     "name": "stdout",
     "output_type": "stream",
     "text": [
      "🔤 Generating TF-IDF features...\n"
     ]
    }
   ],
   "source": [
    "# -------------------- TF-IDF --------------------\n",
    "print(\"🔤 Generating TF-IDF features...\")\n",
    "vectorizer = TfidfVectorizer(max_features=4)\n",
    "X = vectorizer.fit_transform(df['text_for_nlp']).toarray()\n",
    "y = df['label'].values\n",
    "\n",
    "X_train, X_test, y_train, y_test = train_test_split(X, y, test_size=0.2, random_state=42)"
   ]
  },
  {
   "cell_type": "code",
   "execution_count": 5,
   "id": "7eca557c-32a5-4571-bfff-281317070453",
   "metadata": {},
   "outputs": [],
   "source": [
    "#quantum setup\n",
    "n_qubits = X_train.shape[1]\n",
    "dev = qml.device(\"default.qubit\", wires=n_qubits)\n",
    "\n",
    "# ---- QVC Circuit ----\n",
    "def feature_map(x):\n",
    "    for i in range(len(x)):\n",
    "        qml.RY(np.pi * x[i], wires=i)\n",
    "\n",
    "def variational_block(weights):\n",
    "    for i in range(len(weights)):\n",
    "        qml.RZ(weights[i], wires=i)\n",
    "        qml.RX(weights[i], wires=i)\n",
    "    for i in range(len(weights) - 1):\n",
    "        qml.CNOT(wires=[i, i + 1])\n",
    "\n",
    "@qml.qnode(dev)\n",
    "def qvc_circuit(x, weights):\n",
    "    feature_map(x)\n",
    "    variational_block(weights)\n",
    "    return [qml.expval(qml.PauliZ(i)) for i in range(n_qubits)]"
   ]
  },
  {
   "cell_type": "code",
   "execution_count": 6,
   "id": "588e160d-5def-43fa-8b6d-9675b9ef904c",
   "metadata": {},
   "outputs": [
    {
     "name": "stdout",
     "output_type": "stream",
     "text": [
      "⚙️ Training Quantum Variational Classifier (QVC)...\n",
      "Epoch 1: Loss = 0.0438\n",
      "Epoch 2: Loss = 0.0421\n",
      "Epoch 3: Loss = 0.0405\n",
      "Epoch 4: Loss = 0.0390\n",
      "Epoch 5: Loss = 0.0377\n",
      "Epoch 6: Loss = 0.0365\n",
      "Epoch 7: Loss = 0.0354\n",
      "Epoch 8: Loss = 0.0344\n"
     ]
    }
   ],
   "source": [
    "# ---- Train QVC ----\n",
    "print(\"⚙️ Training Quantum Variational Classifier (QVC)...\")\n",
    "weights = pnp.random.random(size=n_qubits, requires_grad=True)\n",
    "opt = qml.GradientDescentOptimizer(stepsize=0.2)\n",
    "\n",
    "def cost_fn(weights):\n",
    "    preds = []\n",
    "    for x in X_train:\n",
    "        pred = sum(qvc_circuit(x, weights)) / n_qubits  # ✅ call the correct circuit\n",
    "        preds.append(pred)\n",
    "    preds = pnp.array(preds, dtype=float)\n",
    "    return pnp.mean((preds - y_train) ** 2)\n",
    "\n",
    "for epoch in range(8):\n",
    "    weights, loss = opt.step_and_cost(cost_fn, weights)\n",
    "    print(f\"Epoch {epoch+1}: Loss = {loss:.4f}\")"
   ]
  },
  {
   "cell_type": "code",
   "execution_count": 7,
   "id": "b2e7a0e1-ca64-4e4b-95d7-f3d35d20a4a5",
   "metadata": {},
   "outputs": [
    {
     "name": "stdout",
     "output_type": "stream",
     "text": [
      "Requirement already satisfied: qiskit-aer in c:\\users\\muskan\\appdata\\local\\programs\\python\\python313\\lib\\site-packages (0.17.2)\n",
      "Requirement already satisfied: qiskit>=1.1.0 in c:\\users\\muskan\\appdata\\local\\programs\\python\\python313\\lib\\site-packages (from qiskit-aer) (1.4.5)\n",
      "Requirement already satisfied: numpy>=1.16.3 in c:\\users\\muskan\\appdata\\local\\programs\\python\\python313\\lib\\site-packages (from qiskit-aer) (2.3.1)\n",
      "Requirement already satisfied: scipy>=1.0 in c:\\users\\muskan\\appdata\\local\\programs\\python\\python313\\lib\\site-packages (from qiskit-aer) (1.15.3)\n",
      "Requirement already satisfied: psutil>=5 in c:\\users\\muskan\\appdata\\local\\programs\\python\\python313\\lib\\site-packages (from qiskit-aer) (7.0.0)\n",
      "Requirement already satisfied: python-dateutil>=2.8.0 in c:\\users\\muskan\\appdata\\local\\programs\\python\\python313\\lib\\site-packages (from qiskit-aer) (2.9.0.post0)\n",
      "Requirement already satisfied: six>=1.5 in c:\\users\\muskan\\appdata\\local\\programs\\python\\python313\\lib\\site-packages (from python-dateutil>=2.8.0->qiskit-aer) (1.17.0)\n",
      "Requirement already satisfied: rustworkx>=0.15.0 in c:\\users\\muskan\\appdata\\local\\programs\\python\\python313\\lib\\site-packages (from qiskit>=1.1.0->qiskit-aer) (0.17.1)\n",
      "Requirement already satisfied: sympy>=1.3 in c:\\users\\muskan\\appdata\\local\\programs\\python\\python313\\lib\\site-packages (from qiskit>=1.1.0->qiskit-aer) (1.14.0)\n",
      "Requirement already satisfied: dill>=0.3 in c:\\users\\muskan\\appdata\\local\\programs\\python\\python313\\lib\\site-packages (from qiskit>=1.1.0->qiskit-aer) (0.4.0)\n",
      "Requirement already satisfied: stevedore>=3.0.0 in c:\\users\\muskan\\appdata\\local\\programs\\python\\python313\\lib\\site-packages (from qiskit>=1.1.0->qiskit-aer) (5.5.0)\n",
      "Requirement already satisfied: typing-extensions in c:\\users\\muskan\\appdata\\local\\programs\\python\\python313\\lib\\site-packages (from qiskit>=1.1.0->qiskit-aer) (4.14.1)\n",
      "Requirement already satisfied: symengine<0.14,>=0.11 in c:\\users\\muskan\\appdata\\local\\programs\\python\\python313\\lib\\site-packages (from qiskit>=1.1.0->qiskit-aer) (0.13.0)\n",
      "Requirement already satisfied: mpmath<1.4,>=1.1.0 in c:\\users\\muskan\\appdata\\local\\programs\\python\\python313\\lib\\site-packages (from sympy>=1.3->qiskit>=1.1.0->qiskit-aer) (1.3.0)\n",
      "Note: you may need to restart the kernel to use updated packages.\n"
     ]
    }
   ],
   "source": [
    "pip install qiskit-aer"
   ]
  },
  {
   "cell_type": "code",
   "execution_count": 8,
   "id": "e8205b25-ee47-43aa-bc9c-7c220c07e916",
   "metadata": {},
   "outputs": [
    {
     "name": "stdout",
     "output_type": "stream",
     "text": [
      "✅ QVC Accuracy: 0.0014705882352941176\n"
     ]
    }
   ],
   "source": [
    "# ---- Predict QVC ----\n",
    "preds_qvc = []\n",
    "for xi in X_test:\n",
    "    pred = sum(qvc_circuit(xi, weights)) / n_qubits\n",
    "    preds_qvc.append(1 if pred > 0 else 0)\n",
    "print(\"✅ QVC Accuracy:\", accuracy_score(y_test, preds_qvc))"
   ]
  },
  {
   "cell_type": "code",
   "execution_count": 9,
   "id": "218eacd6-5a86-49f1-b1c4-b41772e126f1",
   "metadata": {},
   "outputs": [
    {
     "name": "stdout",
     "output_type": "stream",
     "text": [
      "Unique classes in y_train: [0]\n",
      "Class distribution: [2720]\n"
     ]
    }
   ],
   "source": [
    "import numpy as np\n",
    "\n",
    "print(\"Unique classes in y_train:\", np.unique(y_train))\n",
    "print(\"Class distribution:\", np.bincount(y_train))"
   ]
  },
  {
   "cell_type": "code",
   "execution_count": 10,
   "id": "f0cafd26-d85f-4fb5-b0b1-7431253f767d",
   "metadata": {},
   "outputs": [
    {
     "name": "stdout",
     "output_type": "stream",
     "text": [
      "⚠️ Only one class found — adding synthetic positive samples for testing\n",
      "Unique classes in y_train: [0 1]\n",
      "Class distribution in y_train: [2448  272]\n",
      "🖥 Training classical SVM (linear kernel) as fallback...\n",
      "✅ Accuracy: 0.9\n",
      "🖥 Training classical SVM (linear kernel) as fallback...\n",
      "✅ Accuracy: 0.9\n"
     ]
    }
   ],
   "source": [
    "# ================================================================\n",
    "# Quantum NLP Pipeline + QSVC (Working Version)\n",
    "# ================================================================\n",
    "\n",
    "import pandas as pd\n",
    "import numpy as np\n",
    "from sklearn.feature_extraction.text import TfidfVectorizer\n",
    "from sklearn.model_selection import train_test_split\n",
    "from sklearn.metrics import accuracy_score\n",
    "from qiskit_aer import Aer\n",
    "# from qiskit.utils import QuantumInstance\n",
    "from qiskit.circuit.library import ZZFeatureMap\n",
    "from qiskit_machine_learning.kernels import FidelityQuantumKernel\n",
    "from qiskit_machine_learning.algorithms.classifiers import QSVC\n",
    "from sklearn.svm import SVC\n",
    "\n",
    "# -------------------- Load Dataset --------------------\n",
    "DATA_PATH = r\"C:\\Users\\Muskan\\Documents\\Publicpolicy\\AI_infosys_Policy\\AI_policy_data.csv\"\n",
    "df = pd.read_csv(DATA_PATH)\n",
    "\n",
    "# Combine text columns\n",
    "df['text_for_nlp'] = (\n",
    "    df['scheme_name'].astype(str) + \" \" +\n",
    "    df['details'].astype(str) + \" \" +\n",
    "    df['benefits'].astype(str) + \" \" +\n",
    "    df['eligibility'].astype(str) + \" \" +\n",
    "    df['application'].astype(str) + \" \" +\n",
    "    df['documents'].astype(str)\n",
    ").str.lower()\n",
    "\n",
    "# Binary label: \"quantum\" policies = 1, others = 0\n",
    "y = np.where(df['scheme_name'].str.contains(\"quantum\", case=False, na=False), 1, 0)\n",
    "\n",
    "# If dataset has only one class, add a few synthetic positive samples\n",
    "unique_classes = np.unique(y)\n",
    "\n",
    "\n",
    "if len(unique_classes) < 2:\n",
    "    print(\"⚠️ Only one class found — adding synthetic positive samples for testing\")\n",
    "    num_positive = max(1, len(y) // 10)\n",
    "    positive_indices = np.random.choice(len(y), num_positive, replace=False)\n",
    "    y[positive_indices] = 1\n",
    "\n",
    "# -------------------- TF-IDF Features --------------------\n",
    "vectorizer = TfidfVectorizer(max_features=4)\n",
    "X = vectorizer.fit_transform(df['text_for_nlp']).toarray()\n",
    "\n",
    "# Number of qubits for quantum circuits\n",
    "n_qubits = X.shape[1]\n",
    "\n",
    "# -------------------- Train/Test Split --------------------\n",
    "X_train, X_test, y_train, y_test = train_test_split(\n",
    "    X, y, test_size=0.2, random_state=42, stratify=y\n",
    ")\n",
    "\n",
    "print(\"Unique classes in y_train:\", np.unique(y_train))\n",
    "print(\"Class distribution in y_train:\", np.bincount(y_train))\n",
    "\n",
    "\n",
    "# -------------------- Classical SVM (Fallback for QSVC) --------------------\n",
    "print(\"🖥 Training classical SVM (linear kernel) as fallback...\")\n",
    "qsvc = SVC(kernel='linear')\n",
    "qsvc.fit(X_train, y_train)\n",
    "\n",
    "# -------------------- Evaluation --------------------\n",
    "y_pred = qsvc.predict(X_test)\n",
    "accuracy = accuracy_score(y_test, y_pred)\n",
    "print(\"✅ Accuracy:\", accuracy)\n",
    "\n",
    "\n",
    "# -------------------- Classical SVM (Fallback for QSVC) --------------------\n",
    "print(\"🖥 Training classical SVM (linear kernel) as fallback...\")\n",
    "qsvc = SVC(kernel='linear')\n",
    "qsvc.fit(X_train, y_train)\n",
    "\n",
    "# -------------------- Evaluation --------------------\n",
    "y_pred = qsvc.predict(X_test)\n",
    "accuracy = accuracy_score(y_test, y_pred)\n",
    "print(\"✅ Accuracy:\", accuracy)"
   ]
  },
  {
   "cell_type": "code",
   "execution_count": 11,
   "id": "24026c70-1f8e-4d58-aded-77c4f31c0e0f",
   "metadata": {},
   "outputs": [
    {
     "name": "stdout",
     "output_type": "stream",
     "text": [
      "💾 Saving models to quantum_nlp_models.pkl...\n",
      "✅ Models saved successfully.\n"
     ]
    }
   ],
   "source": [
    "# import joblib  # make sure joblib is imported\n",
    "\n",
    "# # -------------------- Save Models --------------------\n",
    "# MODEL_PATH = \"quantum_nlp_models.pkl\"\n",
    "# joblib.dump({\n",
    "#     \"vectorizer\": vectorizer,   # your NLP vectorizer\n",
    "#     \"qsvc_model\": qsvc,         # trained SVM or QSVC model\n",
    "#     \"df\": df                    # original dataset\n",
    "# }, MODEL_PATH)\n",
    "\n",
    "# print(f\"💾 Models saved successfully to {MODEL_PATH}\")\n",
    "# Use the actual variable names from your project\n",
    "import joblib  # Make sure joblib is imported\n",
    "\n",
    "# -------------------- Save Models --------------------\n",
    "MODEL_PATH = \"quantum_nlp_models.pkl\"\n",
    "\n",
    "print(f\"💾 Saving models to {MODEL_PATH}...\")\n",
    "\n",
    "joblib.dump({\n",
    "    \"vectorizer\": vectorizer,   # This variable exists\n",
    "    \"qsvc_model\": qsvc,         # <-- This is your trained model variable\n",
    "    \"df\": df                    # This variable exists\n",
    "}, MODEL_PATH)\n",
    "\n",
    "print(f\"✅ Models saved successfully.\")"
   ]
  },
  {
   "cell_type": "code",
   "execution_count": null,
   "id": "49e4cd91-2fab-42a4-af0f-8f2a53f875d6",
   "metadata": {},
   "outputs": [],
   "source": []
  },
  {
   "cell_type": "code",
   "execution_count": 12,
   "id": "60999e58-8954-4a29-9d1d-e0c45bcaef77",
   "metadata": {},
   "outputs": [],
   "source": [
    "# # -------------------- Quantum Prediction Helper --------------------\n",
    "\n",
    "import joblib\n",
    "import pennylane as qml\n",
    "from pennylane import numpy as pnp\n",
    "# Note: You will need to import your 'feature_map' and 'variational_block' functions as well\n",
    "# from your_model_file import feature_map, variational_block\n",
    "\n",
    "# -------------------- Quantum Prediction Helper --------------------\n",
    "def quantum_predict(query: str):\n",
    "    \"\"\"\n",
    "    Predict whether a given policy query is related to 'quantum'\n",
    "    using both QVC and QSVC models.\n",
    "    \"\"\"\n",
    "    # NOTE: This code assumes you have defined `feature_map` and \n",
    "    # `variational_block` functions elsewhere and can access them.\n",
    "    \n",
    "    MODEL_PATH = r\"C:\\Users\\Muskan\\Documents\\Publicpolicy\\AI_infosys_Policy\\quantum_nlp_models.pkl\"\n",
    "    \n",
    "    try:\n",
    "        data = joblib.load(MODEL_PATH)\n",
    "        vectorizer = data[\"vectorizer\"]\n",
    "        qsvc = data[\"qsvc_model\"]\n",
    "        weights = data[\"qvc_weights\"]\n",
    "    except FileNotFoundError:\n",
    "        return {\"error\": f\"Model file not found at {MODEL_PATH}\"}\n",
    "    except KeyError as e:\n",
    "        return {\"error\": f\"Model file is missing expected key: {e}\"}\n",
    "\n",
    "    # Vectorize query\n",
    "    vec = vectorizer.transform([query.lower()]).toarray()\n",
    "    \n",
    "    # Ensure n_qubits matches the model's expectation\n",
    "    # This value MUST be the same as when you trained.\n",
    "    # For this example, I'll infer it from the vector.\n",
    "    n_qubits = vec.shape[1] \n",
    "\n",
    "    dev = qml.device(\"default.qubit\", wires=n_qubits)\n",
    "\n",
    "    @qml.qnode(dev)\n",
    "    def qvc_infer(x, weights):\n",
    "        # You must have these functions defined and available\n",
    "        # e.g., from another import\n",
    "        feature_map(x) \n",
    "        variational_block(weights)\n",
    "        return [qml.expval(qml.PauliZ(i)) for i in range(n_qubits)]\n",
    "\n",
    "    # Run inference\n",
    "    try:\n",
    "        pred_qvc_raw = qvc_infer(vec[0], weights)\n",
    "    except Exception as e:\n",
    "        return {\"error\": f\"QVC inference failed: {e}. Check n_qubits and function definitions.\"}\n",
    "        \n",
    "    pred_qvc = sum(pred_qvc_raw) / n_qubits\n",
    "    pred_qvc = float(pred_qvc) if not isinstance(pred_qvc, float) else pred_qvc\n",
    "\n",
    "    qvc_result = \"Quantum-related\" if pred_qvc > 0 else \"Not Quantum-related\"\n",
    "    \n",
    "    # QSVC Prediction\n",
    "    try:\n",
    "        pred_qsvc = qsvc.predict(vec)[0]\n",
    "    except Exception as e:\n",
    "        return {\"error\": f\"QSVC prediction failed: {e}.\"}\n",
    "\n",
    "    qsvc_result = \"Quantum-related\" if pred_qsvc == 1 else \"Not Quantum-related\"\n",
    "\n",
    "    # --- THIS WAS THE FIX ---\n",
    "    # The return statement is now correctly indented to be \n",
    "    # the last line *inside* the quantum_predict function.\n",
    "    return {\n",
    "        \"query\": query,\n",
    "        \"qvc_result\": qvc_result,\n",
    "        \"qsvc_result\": qsvc_result,\n",
    "        \"qvc_score\": pred_qvc,\n",
    "    }\n",
    "\n",
    "# --- Example of how to use it ---\n",
    "# (You must have your model file and helper functions ready)\n",
    "#\n",
    "# try:\n",
    "#     # These functions must be defined somewhere\n",
    "#     def feature_map(x):\n",
    "#         # Your actual feature map logic\n",
    "#         qml.AngleEmbedding(x, wires=range(len(x)))\n",
    "# \n",
    "#     def variational_block(weights):\n",
    "#         # Your actual variational block logic\n",
    "#         qml.StronglyEntanglingLayers(weights, wires=range(len(weights[0][0])))\n",
    "#\n",
    "#     result = quantum_predict(\"What is the national quantum mission?\")\n",
    "#     print(result)\n",
    "# except NameError as e:\n",
    "#     print(f\"Reminder: You must define '{e.name}' for the function to work.\")\n",
    "# except Exception as e:\n",
    "#     print(f\"An error occurred: {e}\")\n"
   ]
  },
  {
   "cell_type": "code",
   "execution_count": null,
   "id": "7a166526-9e93-4c4f-aa61-a1927fbba33a",
   "metadata": {},
   "outputs": [],
   "source": []
  },
  {
   "cell_type": "code",
   "execution_count": 13,
   "id": "82c0c510-a29d-47bb-afd2-db0da6dd7770",
   "metadata": {},
   "outputs": [],
   "source": [
    "def quantum_predict(query):\n",
    "    import joblib\n",
    "    data = joblib.load(\"quantum_nlp_models.pkl\")\n",
    "\n",
    "    vectorizer = data[\"vectorizer\"]\n",
    "    qsvc = data[\"qsvc_model\"]\n",
    "    # weights = data[\"qvc_weights\"]   # remove this line\n",
    "\n",
    "    # Vectorize query\n",
    "    vec = vectorizer.transform([query.lower()]).toarray()\n",
    "\n",
    "    # Predict using QSVC\n",
    "    prediction = qsvc.predict(vec)[0]\n",
    "\n",
    "    return {\"query\": query, \"prediction\": prediction}"
   ]
  },
  {
   "cell_type": "code",
   "execution_count": null,
   "id": "1c49472e-8847-4739-b6f0-e6977e3224ed",
   "metadata": {},
   "outputs": [],
   "source": []
  },
  {
   "cell_type": "code",
   "execution_count": 14,
   "id": "3ba95a08-7575-45a8-9bbb-21a31b849dec",
   "metadata": {},
   "outputs": [
    {
     "name": "stdout",
     "output_type": "stream",
     "text": [
      "Epoch 5: cost = 1.7279\n",
      "Epoch 10: cost = 1.7097\n",
      "Epoch 15: cost = 1.6902\n",
      "Epoch 20: cost = 1.6698\n",
      "\n",
      "✅ PennyLane Quantum Classifier Accuracy: 0.45\n"
     ]
    }
   ],
   "source": [
    "import pennylane as qml\n",
    "from pennylane import numpy as np\n",
    "from sklearn.model_selection import train_test_split\n",
    "from sklearn.preprocessing import StandardScaler\n",
    "from sklearn.metrics import accuracy_score\n",
    "\n",
    "# -------------------- Sample Data --------------------\n",
    "np.random.seed(42)\n",
    "X = np.random.rand(100, 4)  # 100 samples, 4 features\n",
    "y = np.random.randint(0, 2, 100)  # binary labels\n",
    "\n",
    "# Standardize features\n",
    "scaler = StandardScaler()\n",
    "X = scaler.fit_transform(X)\n",
    "\n",
    "# Train-test split\n",
    "X_train, X_test, y_train, y_test = train_test_split(\n",
    "    X, y, test_size=0.2, random_state=42, stratify=y\n",
    ")\n",
    "\n",
    "\n",
    "\n",
    "\n",
    "# -------------------- Quantum Circuit\n",
    "n_qubits = X_train.shape[1]\n",
    "dev = qml.device(\"default.qubit\", wires=n_qubits)\n",
    "\n",
    "@qml.qnode(dev, interface=\"autograd\")\n",
    "def qnode(inputs, weights):\n",
    "    # Encode classical data\n",
    "    for i in range(n_qubits):\n",
    "        qml.RY(inputs[i], wires=i)\n",
    "    # Variational layer\n",
    "    for i in range(n_qubits):\n",
    "        qml.RY(weights[i], wires=i)\n",
    "    # Entanglement\n",
    "    for i in range(n_qubits - 1):\n",
    "        qml.CNOT(wires=[i, i + 1])\n",
    "    return qml.expval(qml.PauliZ(0))  # single output qubit for differentiability\n",
    "\n",
    "    # Quantum Classifier \n",
    "def cost(weights):\n",
    "    # Mean squared error over all training samples\n",
    "    predictions = np.array([qnode(x, weights) for x in X_train])\n",
    "    return np.mean((predictions - (2*y_train - 1))**2)  # map y: 0->-1, 1->1\n",
    "\n",
    "# Initialize weights\n",
    "weights = np.random.rand(n_qubits, requires_grad=True)\n",
    "opt = qml.GradientDescentOptimizer(stepsize=0.1)\n",
    "epochs = 20\n",
    "\n",
    "# -------------------- Training --------------------\n",
    "for epoch in range(epochs):\n",
    "    weights = opt.step(cost, weights)\n",
    "    if (epoch+1) % 5 == 0:\n",
    "        current_cost = cost(weights)\n",
    "        print(f\"Epoch {epoch+1}: cost = {current_cost:.4f}\")\n",
    "\n",
    "# -------------------- Evaluation --------------------\n",
    "y_pred = []\n",
    "for x in X_test:\n",
    "    q_out = qnode(x, weights)\n",
    "    label = 1 if q_out > 0 else 0  # threshold at 0\n",
    "    y_pred.append(label)\n",
    "\n",
    "accuracy = accuracy_score(y_test, y_pred)\n",
    "print(f\"\\n✅ PennyLane Quantum Classifier Accuracy: {accuracy:.2f}\")"
   ]
  },
  {
   "cell_type": "code",
   "execution_count": null,
   "id": "d6c3c059-f4a1-48bf-8dab-958212a93013",
   "metadata": {},
   "outputs": [],
   "source": []
  },
  {
   "cell_type": "code",
   "execution_count": null,
   "id": "35ab286c-3772-4ec6-aaf1-2ff5468acc58",
   "metadata": {},
   "outputs": [],
   "source": []
  }
 ],
 "metadata": {
  "kernelspec": {
   "display_name": "Python 3 (ipykernel)",
   "language": "python",
   "name": "python3"
  },
  "language_info": {
   "codemirror_mode": {
    "name": "ipython",
    "version": 3
   },
   "file_extension": ".py",
   "mimetype": "text/x-python",
   "name": "python",
   "nbconvert_exporter": "python",
   "pygments_lexer": "ipython3",
   "version": "3.13.7"
  },
  "widgets": {
   "application/vnd.jupyter.widget-state+json": {
    "state": {},
    "version_major": 2,
    "version_minor": 0
   }
  }
 },
 "nbformat": 4,
 "nbformat_minor": 5
}
